{
 "cells": [
  {
   "cell_type": "markdown",
   "metadata": {},
   "source": [
    "# Pi-HEaaN"
   ]
  },
  {
   "cell_type": "code",
   "execution_count": 2,
   "metadata": {},
   "outputs": [
    {
     "name": "stdout",
     "output_type": "stream",
     "text": [
      "Defaulting to user installation because normal site-packages is not writeable\n",
      "Requirement already satisfied: pi-heaan in /Users/siheon/Library/Python/3.9/lib/python/site-packages (3.4.1.3)\n",
      "\u001b[33mWARNING: You are using pip version 21.2.4; however, version 24.0 is available.\n",
      "You should consider upgrading via the '/Applications/Xcode.app/Contents/Developer/usr/bin/python3 -m pip install --upgrade pip' command.\u001b[0m\n",
      "Note: you may need to restart the kernel to use updated packages.\n",
      "Defaulting to user installation because normal site-packages is not writeable\n",
      "Requirement already satisfied: numpy in /Users/siheon/Library/Python/3.9/lib/python/site-packages (1.26.4)\n",
      "\u001b[33mWARNING: You are using pip version 21.2.4; however, version 24.0 is available.\n",
      "You should consider upgrading via the '/Applications/Xcode.app/Contents/Developer/usr/bin/python3 -m pip install --upgrade pip' command.\u001b[0m\n",
      "Note: you may need to restart the kernel to use updated packages.\n",
      "Defaulting to user installation because normal site-packages is not writeable\n",
      "Requirement already satisfied: pandas in /Users/siheon/Library/Python/3.9/lib/python/site-packages (2.2.2)\n",
      "Requirement already satisfied: pytz>=2020.1 in /Users/siheon/Library/Python/3.9/lib/python/site-packages (from pandas) (2024.1)\n",
      "Requirement already satisfied: python-dateutil>=2.8.2 in /Users/siheon/Library/Python/3.9/lib/python/site-packages (from pandas) (2.9.0.post0)\n",
      "Requirement already satisfied: numpy>=1.22.4 in /Users/siheon/Library/Python/3.9/lib/python/site-packages (from pandas) (1.26.4)\n",
      "Requirement already satisfied: tzdata>=2022.7 in /Users/siheon/Library/Python/3.9/lib/python/site-packages (from pandas) (2024.1)\n",
      "Requirement already satisfied: six>=1.5 in /Applications/Xcode.app/Contents/Developer/Library/Frameworks/Python3.framework/Versions/3.9/lib/python3.9/site-packages (from python-dateutil>=2.8.2->pandas) (1.15.0)\n",
      "\u001b[33mWARNING: You are using pip version 21.2.4; however, version 24.0 is available.\n",
      "You should consider upgrading via the '/Applications/Xcode.app/Contents/Developer/usr/bin/python3 -m pip install --upgrade pip' command.\u001b[0m\n",
      "Note: you may need to restart the kernel to use updated packages.\n"
     ]
    }
   ],
   "source": [
    "%pip install pi-heaan\n",
    "%pip install numpy\n",
    "%pip install pandas\n",
    "\n",
    "import piheaan as heaan\n",
    "from piheaan.math import sort\n",
    "from piheaan.math import approx # for piheaan math function\n",
    "import math\n",
    "import numpy as np\n",
    "import pandas as pd\n",
    "import os"
   ]
  },
  {
   "cell_type": "code",
   "execution_count": 3,
   "metadata": {},
   "outputs": [],
   "source": [
    "# set parameter\n",
    "params = heaan.ParameterPreset.FGb\n",
    "context = heaan.make_context(params) # context has paramter information\n",
    "heaan.make_bootstrappable(context) # make parameter bootstrapable\n",
    "\n",
    "# create and save keys\n",
    "key_file_path = \"./keys\"\n",
    "sk = heaan.SecretKey(context) # create secret key\n",
    "os.makedirs(key_file_path, mode=0o775, exist_ok=True)\n",
    "sk.save(key_file_path+\"/secretkey.bin\") # save secret key\n",
    "\n",
    "key_generator = heaan.KeyGenerator(context, sk) # create public key\n",
    "key_generator.gen_common_keys()\n",
    "key_generator.save(key_file_path+\"/\") # save public key"
   ]
  },
  {
   "cell_type": "code",
   "execution_count": 4,
   "metadata": {},
   "outputs": [],
   "source": [
    "# load secret key and public key\n",
    "# When a key is created, it can be used again to save a new key without creating a new one\n",
    "key_file_path = \"./keys\"\n",
    "\n",
    "sk = heaan.SecretKey(context,key_file_path+\"/secretkey.bin\") # load secret key\n",
    "pk = heaan.KeyPack(context, key_file_path+\"/\") # load public key\n",
    "pk.load_enc_key()\n",
    "pk.load_mult_key()\n",
    "\n",
    "eval = heaan.HomEvaluator(context,pk) # to load piheaan basic function\n",
    "dec = heaan.Decryptor(context) # for decrypt\n",
    "enc = heaan.Encryptor(context) # for encrypt"
   ]
  },
  {
   "cell_type": "code",
   "execution_count": 5,
   "metadata": {},
   "outputs": [],
   "source": [
    "# log_slots is used for the number of slots per ciphertext\n",
    "# It depends on the parameter used (ParameterPreset)\n",
    "# The number '15' is the value for maximum number of slots,\n",
    "# but you can also use a smaller number (ex. 2, 3, 5, 7 ...)\n",
    "# The actual number of slots in the ciphertext is calculated as below.\n",
    "log_slots = 15 \n",
    "num_slots = 2**log_slots"
   ]
  },
  {
   "cell_type": "markdown",
   "metadata": {},
   "source": [
    "- The computations in pi-heaan are based on operations between slots.\n",
    "- Also, the result of an operation between ciphertexts is placed into a new ciphertext (or overwritten)."
   ]
  },
  {
   "cell_type": "markdown",
   "metadata": {},
   "source": [
    "# 01 heaan.HomEvaluator"
   ]
  },
  {
   "cell_type": "markdown",
   "metadata": {},
   "source": [
    "### add\n",
    "- add : addition of two ciphertexts\n",
    "    - add(self: piheaan.HomEvaluator, arg0: piheaan.Ciphertext, arg1: piheaan.Ciphertext, arg2: piheaan.Ciphertext)\n",
    "    - add(self: piheaan.HomEvaluator, arg0: piheaan.Ciphertext, arg1: piheaan.Message, arg2: piheaan.Ciphertext)\n",
    "    - add(self: piheaan.HomEvaluator, arg0: piheaan.Message, arg1: piheaan.Message, arg2: piheaan.Message)\n",
    "    - arg2 <- arg0 + arg1    \n",
    "\n",
    "### sub\n",
    "- sub : subtraction of two ciphertexts\n",
    "    - same paramters as 'add'"
   ]
  },
  {
   "cell_type": "code",
   "execution_count": 6,
   "metadata": {},
   "outputs": [
    {
     "name": "stdout",
     "output_type": "stream",
     "text": [
      "message_1 :  [ (0.100000+0.000000j), (0.200000+0.000000j), (0.300000+0.000000j), (0.400000+0.000000j), (0.500000+0.000000j), (0.600000+0.000000j), (0.700000+0.000000j), (0.800000+0.000000j) ]\n",
      "\n",
      "message_2 :  [ (0.200000+0.000000j), (0.300000+0.000000j), (0.400000+0.000000j), (0.500000+0.000000j), (0.600000+0.000000j), (0.700000+0.000000j), (0.800000+0.000000j), (0.100000+0.000000j) ]\n"
     ]
    }
   ],
   "source": [
    "log_slots = 3\n",
    "num_slots = 2**log_slots\n",
    "\n",
    "data1 = [0.1, 0.2, 0.3, 0.4, 0.5, 0.6, 0.7, 0.8]\n",
    "message_1 = heaan.Message(log_slots)\n",
    "for i in range(num_slots):\n",
    "    message_1[i] = data1[i]\n",
    "\n",
    "data2 = [0.2, 0.3, 0.4, 0.5, 0.6, 0.7, 0.8, 0.1]\n",
    "message_2 = heaan.Message(log_slots)\n",
    "for i in range(num_slots):\n",
    "    message_2[i] = data2[i]\n",
    "\n",
    "\n",
    "print(\"message_1 : \", message_1)\n",
    "print()\n",
    "print(\"message_2 : \", message_2)"
   ]
  },
  {
   "cell_type": "code",
   "execution_count": 11,
   "metadata": {},
   "outputs": [
    {
     "name": "stdout",
     "output_type": "stream",
     "text": [
      "(level: 12, log(num slots): 3, data: [ (0.100000+0.000000j), (0.200000+0.000000j), (0.300000+0.000000j), (0.400000+0.000000j), (0.500000+0.000000j), (0.600000+0.000000j), (0.700000+0.000000j), (0.800000+0.000000j) ])\n",
      "(level: 12, log(num slots): 3, data: [ (0.200000+0.000000j), (0.300000+0.000000j), (0.400000+0.000000j), (0.500000+0.000000j), (0.600000+0.000000j), (0.700000+0.000000j), (0.800000+0.000000j), (0.100000+0.000000j) ])\n",
      "(level: 12, log(num slots): 3, data: [ (0.300000+0.000000j), (0.500000+0.000000j), (0.700000+0.000000j), (0.900000+0.000000j), (1.100000+0.000000j), (1.300000+0.000000j), (1.500000+0.000000j), (0.900000+0.000000j) ])\n",
      "(ciphertext + ciphertext) :  [ (0.300000+0.000000j), (0.500000+0.000000j), (0.700000+0.000000j), (0.900000+0.000000j), (1.100000+0.000000j), (1.300000+0.000000j), (1.500000+0.000000j), (0.900000+0.000000j) ]\n"
     ]
    }
   ],
   "source": [
    "# (ciphertext + ciphertext)\n",
    "ciphertext_1 = heaan.Ciphertext(context)\n",
    "ciphertext_2 = heaan.Ciphertext(context)\n",
    "result_add = heaan.Ciphertext(context)\n",
    "\n",
    "enc.encrypt(message_1, pk, ciphertext_1)\n",
    "enc.encrypt(message_2, pk, ciphertext_2)\n",
    "print(ciphertext_1)\n",
    "print(ciphertext_2)\n",
    "\n",
    "eval.add(ciphertext_1, ciphertext_2, result_add)\n",
    "print(result_add)\n",
    "\n",
    "result_add_message = heaan.Message(log_slots)\n",
    "dec.decrypt(result_add, sk, result_add_message)\n",
    "\n",
    "print(\"(ciphertext + ciphertext) : \", result_add_message)\n"
   ]
  },
  {
   "cell_type": "code",
   "execution_count": 7,
   "metadata": {},
   "outputs": [
    {
     "name": "stdout",
     "output_type": "stream",
     "text": [
      "(ciphertext + message) :  [ (0.300000+0.000000j), (0.500000+0.000000j), (0.700000+0.000000j), (0.900000+0.000000j), (1.100000+0.000000j), (1.300000+0.000000j), (1.500000+0.000000j), (0.900000+0.000000j) ]\n"
     ]
    }
   ],
   "source": [
    "# (ciphertext + message) 1\n",
    "eval.add(ciphertext_1, message_2, result_add)\n",
    "\n",
    "result_add_message = heaan.Message(log_slots)\n",
    "dec.decrypt(result_add, sk, result_add_message)\n",
    "\n",
    "print(\"(ciphertext + message) : \", result_add_message)"
   ]
  },
  {
   "cell_type": "code",
   "execution_count": 8,
   "metadata": {},
   "outputs": [
    {
     "name": "stdout",
     "output_type": "stream",
     "text": [
      "(ciphertext + message) :  [ (2.100000+0.000000j), (2.200000+0.000000j), (2.300000+0.000000j), (2.400000+0.000000j), (2.500000+0.000000j), (2.600000+0.000000j), (2.700000+0.000000j), (2.800000+0.000000j) ]\n"
     ]
    }
   ],
   "source": [
    "# (ciphertext + message(int or float or ...)) 2\n",
    "eval.add(ciphertext_1, 2, result_add)\n",
    "\n",
    "result_add_message = heaan.Message(log_slots)\n",
    "dec.decrypt(result_add, sk, result_add_message)\n",
    "\n",
    "print(\"(ciphertext + message) : \", result_add_message)"
   ]
  },
  {
   "cell_type": "code",
   "execution_count": 9,
   "metadata": {},
   "outputs": [
    {
     "name": "stdout",
     "output_type": "stream",
     "text": [
      "(message + message) :  [ (0.300000+0.000000j), (0.500000+0.000000j), (0.700000+0.000000j), (0.900000+0.000000j), (1.100000+0.000000j), (1.300000+0.000000j), (1.500000+0.000000j), (0.900000+0.000000j) ]\n"
     ]
    }
   ],
   "source": [
    "# (message + message)\n",
    "result_add_message = heaan.Message(log_slots)\n",
    "eval.add(message_1, message_2, result_add_message)\n",
    "\n",
    "print(\"(message + message) : \", result_add_message)"
   ]
  },
  {
   "cell_type": "markdown",
   "metadata": {},
   "source": [
    "### mult\n",
    "- multiplication of two ciphertexts\n",
    "    - mult(self: piheaan.HomEvaluator, arg0: piheaan.Ciphertext, arg1: piheaan.Ciphertext, arg2: piheaan.Ciphertext)\n",
    "    - mult(self: piheaan.HomEvaluator, arg0: piheaan.Ciphertext, arg1: piheaan.Message, arg2: piheaan.Ciphertext)\n",
    "    - mult(self: piheaan.HomEvaluator, arg0: piheaan.Message, arg1: piheaan.Message, arg2: piheaan.Message)"
   ]
  },
  {
   "cell_type": "code",
   "execution_count": 10,
   "metadata": {},
   "outputs": [
    {
     "name": "stdout",
     "output_type": "stream",
     "text": [
      "(ciphertext * ciphertext) :  [ (0.020000+0.000000j), (0.060000+0.000000j), (0.120000+0.000000j), (0.200000+0.000000j), (0.300000+0.000000j), (0.420000+0.000000j), (0.560000+0.000000j), (0.080000+0.000000j) ]\n"
     ]
    }
   ],
   "source": [
    "# (ciphertext * ciphertext)\n",
    "result_mult = heaan.Ciphertext(context)\n",
    "eval.mult(ciphertext_1, ciphertext_2, result_mult)\n",
    "\n",
    "result_mult_message = heaan.Message(log_slots)\n",
    "dec.decrypt(result_mult, sk, result_mult_message)\n",
    "\n",
    "print(\"(ciphertext * ciphertext) : \", result_mult_message)"
   ]
  },
  {
   "cell_type": "code",
   "execution_count": 11,
   "metadata": {},
   "outputs": [
    {
     "name": "stdout",
     "output_type": "stream",
     "text": [
      "(ciphertext * message) :  [ (0.020000+0.000000j), (0.060000+0.000000j), (0.120000+0.000000j), (0.200000+0.000000j), (0.300000+0.000000j), (0.420000+0.000000j), (0.560000+0.000000j), (0.080000+0.000000j) ]\n"
     ]
    }
   ],
   "source": [
    "# (ciphertext * message) 1\n",
    "eval.mult(ciphertext_1, message_2, result_mult)\n",
    "\n",
    "result_mult_message = heaan.Message(log_slots)\n",
    "dec.decrypt(result_mult, sk, result_mult_message)\n",
    "\n",
    "print(\"(ciphertext * message) : \", result_mult_message)"
   ]
  },
  {
   "cell_type": "code",
   "execution_count": 12,
   "metadata": {},
   "outputs": [
    {
     "name": "stdout",
     "output_type": "stream",
     "text": [
      "(ciphertext * ciphertext) :  [ (0.200000+0.000000j), (0.400000+0.000000j), (0.600000+0.000000j), (0.800000+0.000000j), (1.000000+0.000000j), (1.200000+0.000000j), (1.400000+0.000000j), (1.600000+0.000000j) ]\n"
     ]
    }
   ],
   "source": [
    "# (ciphertext * message) 2\n",
    "eval.mult(ciphertext_1, 2, result_mult)\n",
    "\n",
    "result_mult_message = heaan.Message(log_slots)\n",
    "dec.decrypt(result_mult, sk, result_mult_message)\n",
    "\n",
    "print(\"(ciphertext * ciphertext) : \", result_mult_message)"
   ]
  },
  {
   "cell_type": "code",
   "execution_count": 13,
   "metadata": {},
   "outputs": [
    {
     "name": "stdout",
     "output_type": "stream",
     "text": [
      "(message * message) :  [ (0.020000+0.000000j), (0.060000+0.000000j), (0.120000+0.000000j), (0.200000+0.000000j), (0.300000+0.000000j), (0.420000+0.000000j), (0.560000+0.000000j), (0.080000+0.000000j) ]\n"
     ]
    }
   ],
   "source": [
    "# (message * message)\n",
    "result_mult_message = heaan.Message(log_slots)\n",
    "eval.mult(message_1, message_2, result_mult_message)\n",
    "\n",
    "print(\"(message * message) : \", result_mult_message)"
   ]
  },
  {
   "cell_type": "markdown",
   "metadata": {},
   "source": [
    "### negate\n",
    "- change the sign (ex. -2 -> +2)\n",
    "- negate(self: piheaan.HomEvaluator, arg0: piheaan.Ciphertext, arg1: piheaan.Ciphertext)"
   ]
  },
  {
   "cell_type": "code",
   "execution_count": 14,
   "metadata": {},
   "outputs": [
    {
     "name": "stdout",
     "output_type": "stream",
     "text": [
      "-(ciphertext_1) :  [ (-0.100000+0.000000j), (-0.200000+0.000000j), (-0.300000+0.000000j), (-0.400000+0.000000j), (-0.500000+0.000000j), (-0.600000+0.000000j), (-0.700000+0.000000j), (-0.800000+0.000000j) ]\n",
      "\n",
      "-(-ciphertext_1) :  [ (0.100000+0.000000j), (0.200000+0.000000j), (0.300000+0.000000j), (0.400000+0.000000j), (0.500000+0.000000j), (0.600000+0.000000j), (0.700000+0.000000j), (0.800000+0.000000j) ]\n"
     ]
    }
   ],
   "source": [
    "result_negate = heaan.Ciphertext(context)\n",
    "\n",
    "# plus sign -> minus sign\n",
    "eval.negate(ciphertext_1, result_negate)\n",
    "\n",
    "result_negate_message = heaan.Message(log_slots)\n",
    "dec.decrypt(result_negate, sk, result_negate_message)\n",
    "print(\"-(ciphertext_1) : \", result_negate_message)\n",
    "print()\n",
    "\n",
    "# minus sign -> plus sign\n",
    "eval.negate(result_negate, result_negate)\n",
    "\n",
    "result_negate_message = heaan.Message(log_slots)\n",
    "dec.decrypt(result_negate, sk, result_negate_message)\n",
    "print(\"-(-ciphertext_1) : \", result_negate_message)"
   ]
  },
  {
   "cell_type": "markdown",
   "metadata": {},
   "source": [
    "### square\n",
    "- square of ciphertext (ex. x -> x^2)\n",
    "- square(self: piheaan.HomEvaluator, arg0: piheaan.Ciphertext, arg1: piheaan.Ciphertext)"
   ]
  },
  {
   "cell_type": "code",
   "execution_count": 15,
   "metadata": {},
   "outputs": [
    {
     "name": "stdout",
     "output_type": "stream",
     "text": [
      "(ciphertext_1)**2 :  (level: 11, log(num slots): 3, data: [ (0.010000+0.000000j), (0.040000+0.000000j), (0.090000+0.000000j), (0.160000+0.000000j), (0.250000+0.000000j), (0.360000+0.000000j), (0.490000+0.000000j), (0.640000+0.000000j) ])\n"
     ]
    }
   ],
   "source": [
    "result_square = heaan.Ciphertext(context)\n",
    "\n",
    "eval.square(ciphertext_1, result_square)\n",
    "\n",
    "result_square_message = heaan.Message(log_slots)\n",
    "dec.decrypt(result_square, sk, result_square_message)\n",
    "print(\"(ciphertext_1)**2 : \", result_square) \n",
    "# is the same result as \"eval.mult(ciphertext_1, ciphertext_1, result_square)\""
   ]
  },
  {
   "cell_type": "markdown",
   "metadata": {},
   "source": [
    "### left_rotate / right_rotate\n",
    "- the operation of rotating data in ciphertext\n",
    "- left(right)_rotate(self: piheaan.HomEvaluator, arg0: piheaan.Ciphertext, arg1: int, arg2: piheaan.Ciphertext)"
   ]
  },
  {
   "cell_type": "code",
   "execution_count": 15,
   "metadata": {},
   "outputs": [
    {
     "name": "stdout",
     "output_type": "stream",
     "text": [
      "(level: 12, log(num slots): 3, data: [ (0.100000+0.000000j), (0.200000+0.000000j), (0.300000+0.000000j), (0.400000+0.000000j), (0.500000+0.000000j), (0.600000+0.000000j), (0.700000+0.000000j), (0.800000+0.000000j) ])\n",
      "(level: 12, log(num slots): 3, data: [ (0.400000+0.000000j), (0.500000+0.000000j), (0.600000+0.000000j), (0.700000+0.000000j), (0.800000+0.000000j), (0.100000+0.000000j), (0.200000+0.000000j), (0.300000+0.000000j) ])\n",
      "left_rotate :  [ (0.400000+0.000000j), (0.500000+0.000000j), (0.600000+0.000000j), (0.700000+0.000000j), (0.800000+0.000000j), (0.100000+0.000000j), (0.200000+0.000000j), (0.300000+0.000000j) ]\n",
      "\n",
      "right_rotate :  [ (0.600000+0.000000j), (0.700000+0.000000j), (0.800000+0.000000j), (0.100000+0.000000j), (0.200000+0.000000j), (0.300000+0.000000j), (0.400000+0.000000j), (0.500000+0.000000j) ]\n"
     ]
    }
   ],
   "source": [
    "result_left_rot = heaan.Ciphertext(context)\n",
    "result_right_rot = heaan.Ciphertext(context)\n",
    "\n",
    "# left_rotate\n",
    "eval.left_rotate(ciphertext_1, 3, result_left_rot)\n",
    "print(ciphertext_1)\n",
    "print(result_left_rot)\n",
    "\n",
    "result_left_rot_message = heaan.Message(log_slots)\n",
    "dec.decrypt(result_left_rot, sk, result_left_rot_message)\n",
    "print(\"left_rotate : \", result_left_rot_message)\n",
    "print()\n",
    "\n",
    "# right_rotate\n",
    "eval.right_rotate(ciphertext_1, 3, result_right_rot)\n",
    "\n",
    "result_right_rot_message = heaan.Message(log_slots)\n",
    "dec.decrypt(result_right_rot, sk, result_right_rot_message)\n",
    "print(\"right_rotate : \", result_right_rot_message)\n"
   ]
  },
  {
   "cell_type": "markdown",
   "metadata": {},
   "source": [
    "### rot_sum\n",
    "- rotate and add several distinct ciphertexts\n",
    "- rot_sum(self: piheaan.HomEvaluator, \n",
    "            arg0: List[piheaan.Ciphertext], \n",
    "            arg1: List[int], \n",
    "            arg2: piheaan.Ciphertext)\n",
    "\n",
    "- Type of 0th and 1st parameters are 'List'\n",
    "- The order and position of arg0 and arg1 must be matched\n",
    "    - (1) eval.rot_sum([ctxt1, ctxt2], [2], ctxt3) => is only the result left rotate 2 slots for ctxt1\n",
    "    - (2) eval.rot_sum([ctxt1], [2, 3], ctxt3) => error!"
   ]
  },
  {
   "cell_type": "code",
   "execution_count": 17,
   "metadata": {},
   "outputs": [
    {
     "name": "stdout",
     "output_type": "stream",
     "text": [
      "rot_sum :  [ (0.700000+0.000000j), (0.900000+0.000000j), (1.100000+0.000000j), (1.300000+0.000000j), (1.500000+0.000000j), (0.900000+0.000000j), (0.300000+0.000000j), (0.500000+0.000000j) ]\n"
     ]
    }
   ],
   "source": [
    "result_rot_sum = heaan.Ciphertext(context)\n",
    "\n",
    "eval.rot_sum([ciphertext_1, ciphertext_2], [2, 2], result_rot_sum) \n",
    "\n",
    "result_rot_sum_message = heaan.Message(log_slots)\n",
    "dec.decrypt(result_rot_sum, sk, result_rot_sum_message)\n",
    "print(\"rot_sum : \", result_rot_sum_message)"
   ]
  },
  {
   "cell_type": "code",
   "execution_count": 18,
   "metadata": {},
   "outputs": [
    {
     "name": "stdout",
     "output_type": "stream",
     "text": [
      "ciphertext_1 :  [ (0.100000+0.000000j), (0.200000+0.000000j), (0.300000+0.000000j), (0.400000+0.000000j), (0.500000+0.000000j), (0.600000+0.000000j), (0.700000+0.000000j), (0.800000+0.000000j) ]\n",
      "ciphertext_2 :  [ (0.200000+0.000000j), (0.300000+0.000000j), (0.400000+0.000000j), (0.500000+0.000000j), (0.600000+0.000000j), (0.700000+0.000000j), (0.800000+0.000000j), (0.100000+0.000000j) ]\n",
      "\n",
      "result :  [ (0.700000+0.000000j), (0.900000+0.000000j), (1.100000+0.000000j), (1.300000+0.000000j), (1.500000+0.000000j), (0.900000+0.000000j), (0.300000+0.000000j), (0.500000+0.000000j) ]\n"
     ]
    }
   ],
   "source": [
    "# redeclaration\n",
    "ciphertext_1 = heaan.Ciphertext(context)\n",
    "ciphertext_2 = heaan.Ciphertext(context)\n",
    "enc.encrypt(message_1, pk, ciphertext_1)\n",
    "enc.encrypt(message_2, pk, ciphertext_2)\n",
    "\n",
    "print(\"ciphertext_1 : \", message_1)\n",
    "print(\"ciphertext_2 : \", message_2)\n",
    "print()\n",
    "\n",
    "# \"rot_sum\" performs the following process at once\n",
    "res1 = heaan.Ciphertext(context)\n",
    "res2 = heaan.Ciphertext(context)\n",
    "eval.left_rotate(ciphertext_1, 2, res1)\n",
    "eval.left_rotate(ciphertext_2, 2, res2)\n",
    "eval.add(res1, res2, result_rot_sum)\n",
    "\n",
    "message_ = heaan.Message(log_slots)\n",
    "dec.decrypt(result_rot_sum, sk, message_)\n",
    "print(\"result : \", message_)"
   ]
  },
  {
   "cell_type": "code",
   "execution_count": 19,
   "metadata": {},
   "outputs": [
    {
     "name": "stdout",
     "output_type": "stream",
     "text": [
      "(1) rot_sum :  [ (0.300000+0.000000j), (0.400000+0.000000j), (0.500000+0.000000j), (0.600000+0.000000j), (0.700000+0.000000j), (0.800000+0.000000j), (0.100000+0.000000j), (0.200000+0.000000j) ]\n"
     ]
    }
   ],
   "source": [
    "# (1)\n",
    "result_rot_sum = heaan.Ciphertext(context)\n",
    "\n",
    "eval.rot_sum([ciphertext_1, ciphertext_2], [2], result_rot_sum) \n",
    "\n",
    "result_rot_sum_message = heaan.Message(log_slots)\n",
    "dec.decrypt(result_rot_sum, sk, result_rot_sum_message)\n",
    "print(\"(1) rot_sum : \", result_rot_sum_message)"
   ]
  },
  {
   "cell_type": "markdown",
   "metadata": {},
   "source": [
    "### left_rotate_reduce / right_rotate_reduce\n",
    "- You can use it in many rotating ways\n",
    "- left_rotate_reduce(self: piheaan.HomEvaluator, arg0: piheaan.Ciphertext, \n",
    "\t       arg1: int, arg2: int, arg3: piheaan.Ciphertext)\n",
    "- left_rotate_reduce works the same way as right_rotate_reduce with the different rotate direction"
   ]
  },
  {
   "cell_type": "code",
   "execution_count": 20,
   "metadata": {},
   "outputs": [],
   "source": [
    "# redeclaration\n",
    "ciphertext_1 = heaan.Ciphertext(context)\n",
    "ciphertext_2 = heaan.Ciphertext(context)\n",
    "enc.encrypt(message_1, pk, ciphertext_1)\n",
    "enc.encrypt(message_2, pk, ciphertext_2)"
   ]
  },
  {
   "cell_type": "code",
   "execution_count": 21,
   "metadata": {},
   "outputs": [
    {
     "name": "stdout",
     "output_type": "stream",
     "text": [
      "(1) right_rotate_reduce :  [ (2.700000+0.000000j), (2.400000+0.000000j), (2.100000+0.000000j), (1.800000+0.000000j), (1.500000+0.000000j), (2.000000+0.000000j), (2.500000+0.000000j), (3.000000+0.000000j) ]\n",
      "\n",
      "(1) same result :  [ (2.700000+0.000000j), (2.400000+0.000000j), (2.100000+0.000000j), (1.800000+0.000000j), (1.500000+0.000000j), (2.000000+0.000000j), (2.500000+0.000000j), (3.000000+0.000000j) ]\n"
     ]
    }
   ],
   "source": [
    "# (1)\n",
    "msg_result_rigt_rot_reduce1=heaan.Message(log_slots)\n",
    "result_right_rot_reduce1 = heaan.Ciphertext(context)\n",
    "enc.encrypt(msg_result_rigt_rot_reduce1, pk,result_right_rot_reduce1 )\n",
    "\n",
    "eval.right_rotate_reduce(ciphertext_1, 1, 5, result_right_rot_reduce1)\n",
    "\n",
    "result_right_rot_reduce_message = heaan.Message(log_slots)\n",
    "dec.decrypt(result_right_rot_reduce1, sk, result_right_rot_reduce_message)\n",
    "print(\"(1) right_rotate_reduce : \", result_right_rot_reduce_message)\n",
    "print()\n",
    "\n",
    "# This is the same result..\n",
    "\n",
    "msg_result_rigt_rot_reduce1=heaan.Message(log_slots)\n",
    "result_right_rot_reduce1 = heaan.Ciphertext(context)\n",
    "enc.encrypt(msg_result_rigt_rot_reduce1, pk,result_right_rot_reduce1 )\n",
    "\n",
    "for i in range(5):\n",
    "    if i>0:\n",
    "        eval.right_rotate(ciphertext_1, 1, ciphertext_1)\n",
    "    eval.add(ciphertext_1, result_right_rot_reduce1, result_right_rot_reduce1)\n",
    "\n",
    "result_right_rot_reduce_message = heaan.Message(log_slots)\n",
    "dec.decrypt(result_right_rot_reduce1, sk, result_right_rot_reduce_message)\n",
    "print(\"(1) same result : \", result_right_rot_reduce_message)"
   ]
  },
  {
   "cell_type": "code",
   "execution_count": 22,
   "metadata": {},
   "outputs": [],
   "source": [
    "# redeclaration\n",
    "ciphertext_1 = heaan.Ciphertext(context)\n",
    "ciphertext_2 = heaan.Ciphertext(context)\n",
    "enc.encrypt(message_1, pk, ciphertext_1)\n",
    "enc.encrypt(message_2, pk, ciphertext_2)"
   ]
  },
  {
   "cell_type": "code",
   "execution_count": 23,
   "metadata": {},
   "outputs": [
    {
     "name": "stdout",
     "output_type": "stream",
     "text": [
      "(2) right_rotate_reduce :  [ (0.700000+0.000000j), (0.900000+0.000000j), (1.100000+0.000000j), (1.300000+0.000000j), (0.700000+0.000000j), (0.900000+0.000000j), (1.100000+0.000000j), (0.500000+0.000000j) ]\n",
      "\n",
      "(2) same result :  [ (0.700000+0.000000j), (0.900000+0.000000j), (1.100000+0.000000j), (1.300000+0.000000j), (0.700000+0.000000j), (0.900000+0.000000j), (1.100000+0.000000j), (0.500000+0.000000j) ]\n"
     ]
    }
   ],
   "source": [
    "# (2)\n",
    "msg_result_rigt_rot_reduce2=heaan.Message(log_slots)\n",
    "result_right_rot_reduce2 = heaan.Ciphertext(context)\n",
    "enc.encrypt(msg_result_rigt_rot_reduce2, pk,result_right_rot_reduce2 )\n",
    "\n",
    "\n",
    "eval.right_rotate_reduce(ciphertext_2, 5, 2, result_right_rot_reduce2)\n",
    "\n",
    "result_right_rot_reduce_message = heaan.Message(log_slots)\n",
    "dec.decrypt(result_right_rot_reduce2, sk, result_right_rot_reduce_message)\n",
    "print(\"(2) right_rotate_reduce : \", result_right_rot_reduce_message)\n",
    "print()\n",
    "\n",
    "\n",
    "# This is the same result..\n",
    "msg_result_rigt_rot_reduce2=heaan.Message(log_slots)\n",
    "result_right_rot_reduce2 = heaan.Ciphertext(context)\n",
    "enc.encrypt(msg_result_rigt_rot_reduce2, pk,result_right_rot_reduce2 )\n",
    "for i in range(2):\n",
    "    if i>0:\n",
    "        eval.right_rotate(ciphertext_2, 5, ciphertext_2)\n",
    "    eval.add(ciphertext_2, result_right_rot_reduce2, result_right_rot_reduce2)\n",
    "\n",
    "result_right_rot_reduce_message = heaan.Message(log_slots)\n",
    "dec.decrypt(result_right_rot_reduce2, sk, result_right_rot_reduce_message)\n",
    "print(\"(2) same result : \", result_right_rot_reduce_message)"
   ]
  },
  {
   "cell_type": "code",
   "execution_count": 24,
   "metadata": {},
   "outputs": [
    {
     "name": "stdout",
     "output_type": "stream",
     "text": [
      "(3) result :  [ (3.600000+0.000000j), (0.000000+0.000000j), (0.000000+0.000000j), (0.000000+0.000000j), (0.000000+0.000000j), (0.000000+0.000000j), (0.000000+0.000000j), (0.000000+0.000000j) ]\n"
     ]
    }
   ],
   "source": [
    "# (3)\n",
    "# if you want to calculate the sum of ctxt1, you can use this!\n",
    "data_masking_1 = [1] + [0]*(num_slots-1)\n",
    "masking_1 = heaan.Message(log_slots)\n",
    "for i in range(num_slots):\n",
    "    masking_1[i] = data_masking_1[i]\n",
    "\n",
    "res3 = heaan.Ciphertext(context)\n",
    "\n",
    "eval.left_rotate_reduce(ciphertext_1, 1, num_slots, res3)\n",
    "eval.mult(res3, masking_1, res3)\n",
    "\n",
    "res3_message = heaan.Message(log_slots)\n",
    "dec.decrypt(res3, sk, res3_message)\n",
    "print(\"(3) result : \", res3_message)"
   ]
  },
  {
   "cell_type": "markdown",
   "metadata": {},
   "source": [
    "### bootstrap / min_level_for_bootstrap\n",
    "- the level of ciphertext is a value that indicates how many times multiplication can be performed using this ciphertext\n",
    "- if the level of ciphertext becomes min_level_for_bootstrap, you have to do \"bootstrap\"\n",
    "- if the level of ciphertext exceeds 'min_level_for_bootstrap', you cannot perform bootstrap.\n",
    "- Bootstrap must be done before the level reaches 3 or below\n",
    "- Then the level is restored\n",
    "- So you can continue the operation continuously\n",
    "\n",
    "- bootstrap(self: piheaan.HomEvaluator, arg0: piheaan.Ciphertext, \n",
    "\t\targ1: piheaan.Ciphertext)"
   ]
  },
  {
   "cell_type": "code",
   "execution_count": 25,
   "metadata": {},
   "outputs": [
    {
     "name": "stdout",
     "output_type": "stream",
     "text": [
      "1) check ctxt3 level :  11\n",
      "2) after 10 times mult.. ctxt3 level :  3\n",
      "3) after bootstrap! ctxt3 level :  12\n"
     ]
    }
   ],
   "source": [
    "# Lets down the level of ciphertext\n",
    "result_mult = heaan.Ciphertext(context)\n",
    "\n",
    "eval.mult(ciphertext_1, ciphertext_1, result_mult)\n",
    "print(\"1) check ctxt3 level : \", result_mult.level) # if you print 'ciphertext.level', you can check the level of ciphertext\n",
    "for i in range(result_mult.level - eval.min_level_for_bootstrap):\n",
    "    eval.mult(result_mult, result_mult, result_mult)\n",
    "print(\"2) after 10 times mult.. ctxt3 level : \", result_mult.level) # 23 -> 3\n",
    "# Now you cannot do multiplication!\n",
    "# So now..\n",
    "eval.bootstrap(result_mult, result_mult)\n",
    "print(\"3) after bootstrap! ctxt3 level : \", result_mult.level) # now you can do multiplication 12 times"
   ]
  },
  {
   "cell_type": "code",
   "execution_count": 26,
   "metadata": {},
   "outputs": [
    {
     "data": {
      "text/plain": [
       "3"
      ]
     },
     "execution_count": 26,
     "metadata": {},
     "output_type": "execute_result"
    }
   ],
   "source": [
    "# you can check minmum level for bootstrap\n",
    "eval.min_level_for_bootstrap"
   ]
  },
  {
   "cell_type": "markdown",
   "metadata": {},
   "source": [
    "# 02 heaan.math.sort"
   ]
  },
  {
   "cell_type": "markdown",
   "metadata": {},
   "source": [
    "### sort\n",
    "- input range : -0.5 ~ 0.5\n",
    "- 4th parameter(boolean) : False = descending, True = ascending\n",
    "- 5th parameter(boolean) is False(default)\n",
    "- sort(arg0: piheaan.HomEvaluator, \n",
    "        arg1: input : piheaan.Ciphertext, \n",
    "        arg2: result : piheaan.Ciphertext, \n",
    "        arg3: n : int, \n",
    "        arg4: ascent : bool, \n",
    "        arg5: only_last_stage : bool)"
   ]
  },
  {
   "cell_type": "code",
   "execution_count": 27,
   "metadata": {},
   "outputs": [
    {
     "name": "stdout",
     "output_type": "stream",
     "text": [
      "[ (-0.213592+0.000000j), (0.248106+0.000000j), (0.446777+0.000000j), (-0.153213+0.000000j), (0.452811+0.000000j), (0.258801+0.000000j), (-0.011590+0.000000j), (0.429461+0.000000j) ]\n"
     ]
    }
   ],
   "source": [
    "log_slots = 3\n",
    "num_slots = 2 ** log_slots\n",
    "\n",
    "data3 = np.random.uniform(size=num_slots)-0.5\n",
    "message_3 = heaan.Message(log_slots)\n",
    "for i in range(num_slots):\n",
    "    message_3[i]=data3[i]\n",
    "print(message_3)\n",
    "\n",
    "ciphertext_3 = heaan.Ciphertext(context)\n",
    "enc.encrypt(message_3, pk, ciphertext_3)"
   ]
  },
  {
   "cell_type": "code",
   "execution_count": 28,
   "metadata": {},
   "outputs": [
    {
     "name": "stdout",
     "output_type": "stream",
     "text": [
      "index pair in unitSort :0, 1\n",
      "index pair in unitSort :1, 2\n",
      "index pair in unitSort :1, 1\n",
      "index pair in unitSort :2, 4\n",
      "index pair in unitSort :2, 2\n",
      "index pair in unitSort :2, 1\n",
      "sort :  [ (-0.213592+0.000000j), (-0.153213+0.000000j), (-0.011590+0.000000j), (0.248106+0.000000j), (0.258801+0.000000j), (0.429461+0.000000j), (0.446777+0.000000j), (0.452811+0.000000j) ]\n"
     ]
    }
   ],
   "source": [
    "# Input range : -0.5 ~ 0.5\n",
    "\n",
    "ciphertext_out_sort = heaan.Ciphertext(context)\n",
    "sort.sort(eval, ciphertext_3, ciphertext_out_sort, num_slots, True) # 4th boolean: 0: descending, 1 : ascending order\n",
    "\n",
    "message_out_sort = heaan.Message(log_slots)\n",
    "\n",
    "dec.decrypt(ciphertext_out_sort, sk, message_out_sort)\n",
    "\n",
    "print(\"sort : \", message_out_sort)"
   ]
  },
  {
   "cell_type": "markdown",
   "metadata": {},
   "source": [
    "# 03 heaan.math.approx"
   ]
  },
  {
   "cell_type": "markdown",
   "metadata": {},
   "source": [
    "### compare\n",
    "- compare the slots of different ciphertexts and identify which value is greater or smaller\n",
    "- input range : 2^-18 < |x-y| < 1\n",
    "- compare(arg0: piheaan.HomEvaluator, \n",
    "            arg1: piheaan.Ciphertext, \n",
    "            arg2: piheaan.Ciphertext, \n",
    "            arg3: piheaan.Ciphertext)\n",
    "\n",
    "- if the value in slot of arg1 > arg2, then return 1\n",
    "- if the value in slot of arg1 < arg2, then return 0\n",
    "- if the value in slot of arg1 == arg2, then return 0.5"
   ]
  },
  {
   "cell_type": "code",
   "execution_count": 29,
   "metadata": {},
   "outputs": [
    {
     "name": "stdout",
     "output_type": "stream",
     "text": [
      "message_3 :  [ (0.316636+0.000000j), (0.522070+0.000000j), (0.218255+0.000000j), (0.871919+0.000000j), (0.167986+0.000000j), (0.522926+0.000000j), (0.438431+0.000000j), (0.846082+0.000000j) ]\n",
      "\n",
      "message_4 :  [ (0.519363+0.000000j), (0.179869+0.000000j), (0.573564+0.000000j), (0.809370+0.000000j), (0.418579+0.000000j), (0.358110+0.000000j), (0.207771+0.000000j), (0.711561+0.000000j) ]\n"
     ]
    }
   ],
   "source": [
    "data3 = np.random.uniform(size=num_slots)\n",
    "data4 = np.random.uniform(size=num_slots)\n",
    "message_3 = heaan.Message(log_slots)\n",
    "message_4 = heaan.Message(log_slots)\n",
    "for i in range(num_slots):\n",
    "    message_3[i]=data3[i]\n",
    "    message_4[i]=data4[i]\n",
    "\n",
    "print(\"message_3 : \", message_3)\n",
    "print()\n",
    "print(\"message_4 : \", message_4)"
   ]
  },
  {
   "cell_type": "code",
   "execution_count": 30,
   "metadata": {},
   "outputs": [],
   "source": [
    "ciphertext_3 = heaan.Ciphertext(context)\n",
    "ciphertext_4 = heaan.Ciphertext(context)\n",
    "result_compare = heaan.Ciphertext(context)\n",
    "\n",
    "enc.encrypt(message_3, pk, ciphertext_3)\n",
    "enc.encrypt(message_4, pk, ciphertext_4)"
   ]
  },
  {
   "cell_type": "code",
   "execution_count": 31,
   "metadata": {},
   "outputs": [
    {
     "name": "stdout",
     "output_type": "stream",
     "text": [
      "result_comp_message :  [ (0.000000+0.000000j), (1.000000+0.000000j), (0.000000+0.000000j), (1.000000+0.000000j), (0.000000+0.000000j), (1.000000+0.000000j), (1.000000+0.000000j), (1.000000+0.000000j) ]\n"
     ]
    }
   ],
   "source": [
    "approx.compare(eval, ciphertext_3, ciphertext_4, result_compare)\n",
    "\n",
    "result_comp_message = heaan.Message(log_slots)\n",
    "dec.decrypt(result_compare, sk, result_comp_message)\n",
    "print(\"result_comp_message : \", result_comp_message)"
   ]
  },
  {
   "cell_type": "markdown",
   "metadata": {},
   "source": [
    "### discrete_equal\n",
    "- compare two ciphertexts and identify whether they have the smae value\n",
    "- input range : |x| ≤ 54 (x : int)\n",
    "- compare two ciphertexts and identify whether they have the same value\n",
    "- discrete_equal(eval: piheaan.HomEvaluator, \n",
    "                    op1: piheaan.Ciphertext, \n",
    "                    op2: piheaan.Ciphertext, \n",
    "                    res: piheaan.Ciphertext)\n",
    "\n",
    "\n",
    "### discrete_equal_zero\n",
    "- compare a ciphertest with 0 and identify whether the value of the ciphertext is equal to 0\n",
    "- input range : |x| ≤ 54 (x : int)\n",
    "- discrete_equal_zero(arg0: piheaan.HomEvaluator, \n",
    "                      arg1: piheaan.Ciphertext, \n",
    "\t\t              arg2: piheaan.Ciphertext)"
   ]
  },
  {
   "cell_type": "code",
   "execution_count": 32,
   "metadata": {},
   "outputs": [
    {
     "name": "stdout",
     "output_type": "stream",
     "text": [
      "message_5 :  [ (0.000000+0.000000j), (1.000000+0.000000j), (2.000000+0.000000j), (3.000000+0.000000j), (4.000000+0.000000j), (5.000000+0.000000j), (6.000000+0.000000j), (7.000000+0.000000j) ]\n",
      "\n",
      "message_6 :  [ (0.000000+0.000000j), (1.000000+0.000000j), (2.000000+0.000000j), (3.000000+0.000000j), (0.000000+0.000000j), (0.000000+0.000000j), (2.000000+0.000000j), (0.000000+0.000000j) ]\n"
     ]
    }
   ],
   "source": [
    "data5 = [i for i in range(num_slots)]\n",
    "data6 = [0, 1, 2, 3, 0, 0, 2, 0]\n",
    "message_5 = heaan.Message(log_slots)\n",
    "message_6 = heaan.Message(log_slots)\n",
    "for i in range(num_slots):\n",
    "    message_5[i]=data5[i]\n",
    "    message_6[i]=data6[i]\n",
    "\n",
    "print(\"message_5 : \", message_5)\n",
    "print()\n",
    "print(\"message_6 : \", message_6)"
   ]
  },
  {
   "cell_type": "code",
   "execution_count": 33,
   "metadata": {},
   "outputs": [
    {
     "name": "stdout",
     "output_type": "stream",
     "text": [
      "message_5 : [ (0.000000+0.000000j), (1.000000+0.000000j), (2.000000+0.000000j), (3.000000+0.000000j), (4.000000+0.000000j), (5.000000+0.000000j), (6.000000+0.000000j), (7.000000+0.000000j) ]\n",
      "\n",
      "message_6 : [ (0.000000+0.000000j), (1.000000+0.000000j), (2.000000+0.000000j), (3.000000+0.000000j), (0.000000+0.000000j), (0.000000+0.000000j), (2.000000+0.000000j), (0.000000+0.000000j) ]\n",
      "\n",
      "discrete_equal result :  [ (1.000000+0.000000j), (1.000000+0.000000j), (1.000000+0.000000j), (1.000000+0.000000j), (0.000000+0.000000j), (0.000000+0.000000j), (0.000000+0.000000j), (0.000000+0.000000j) ]\n",
      "\n",
      "discrete_equal_zero result :  [ (1.000000+0.000000j), (0.000000+0.000000j), (0.000000+0.000000j), (0.000000+0.000000j), (1.000000+0.000000j), (1.000000+0.000000j), (0.000000+0.000000j), (1.000000+0.000000j) ]\n"
     ]
    }
   ],
   "source": [
    "ciphertext_5 = heaan.Ciphertext(context)\n",
    "ciphertext_6 = heaan.Ciphertext(context)\n",
    "\n",
    "enc.encrypt(message_5, pk, ciphertext_5)\n",
    "enc.encrypt(message_6, pk, ciphertext_6)\n",
    "\n",
    "# ciphertext5_left_rotate = heaan.Ciphertext(context)  \n",
    "# eval.left_rotate(ciphertext_5, 5, ciphertext5_left_rotate)  # 5번 암호문을 좌측으로 5칸 로테이션\n",
    "\n",
    "result_discrete_equal = heaan.Ciphertext(context)\n",
    "result_discrete_equal_zero = heaan.Ciphertext(context)\n",
    "approx.discrete_equal(eval, ciphertext_5, ciphertext_6, result_discrete_equal)\n",
    "approx.discrete_equal_zero(eval, ciphertext_6, result_discrete_equal_zero)\n",
    "# approx.discrete_equal(eval, ciphertext_5, ciphertext5_left_rotate, result_discrete_equal_rotate)\n",
    "\n",
    "result_discrete_equal_message = heaan.Message(log_slots)\n",
    "dec.decrypt(result_discrete_equal, sk, result_discrete_equal_message) # 5번과 6번 메시지 비교\n",
    "\n",
    "result_discrete_equal_zero_message = heaan.Message(log_slots)\n",
    "dec.decrypt(result_discrete_equal_zero, sk, result_discrete_equal_zero_message) # 5번과 로테이션 비교\n",
    "\n",
    "print('message_5 :',message_5)\n",
    "print()\n",
    "print('message_6 :', message_6)\n",
    "print()\n",
    "print('discrete_equal result : ', result_discrete_equal_message)\n",
    "print()\n",
    "print('discrete_equal_zero result : ', result_discrete_equal_zero_message)"
   ]
  },
  {
   "cell_type": "markdown",
   "metadata": {},
   "source": [
    "### inverse\n",
    "- take the inverse of the value of the ciphertext\n",
    "- input range : 1 ≤ x ≤ 2^22 or 2^-10 ≤ x ≤ 1\n",
    "- inverse(arg0: piheaan.HomEvaluator, \n",
    "          arg1: piheaan.Ciphertext, \n",
    "\t\t  arg2: piheaan.Ciphertext)\n",
    "\n",
    "          \n",
    "- inverse(eval: piheaan.HomEvaluator, \n",
    "            op: piheaan.Ciphertext, \n",
    "            res: piheaan.Ciphertext, \n",
    "            init: Optional[float] = None, \n",
    "            num_iter: Optional[int] = None, \n",
    "            greater_than_one: bool = True)\n",
    "            \n",
    "- defaul values are init=pow(2, -18), num_iter=23 if greater_than_one==true,\n",
    "- otherwise init=pow(2, -10), num_iter=15"
   ]
  },
  {
   "cell_type": "code",
   "execution_count": 34,
   "metadata": {},
   "outputs": [],
   "source": [
    "data = [i for i in range(1, num_slots+1)]\n",
    "message = heaan.Message(log_slots)\n",
    "for i in range(num_slots):\n",
    "    message[i] = data[i]"
   ]
  },
  {
   "cell_type": "code",
   "execution_count": 35,
   "metadata": {},
   "outputs": [
    {
     "name": "stdout",
     "output_type": "stream",
     "text": [
      "inverse : [ (1.000000+0.000000j), (0.500000+0.000000j), (0.333333+0.000000j), (0.250000+0.000000j), (0.200000+0.000000j), (0.166667+0.000000j), (0.142857+0.000000j), (0.125000+0.000000j) ]\n"
     ]
    }
   ],
   "source": [
    "ciphertext = heaan.Ciphertext(context)\n",
    "result_inv = heaan.Ciphertext(context)\n",
    "\n",
    "enc.encrypt(message, pk, ciphertext)\n",
    "approx.inverse(eval, ciphertext, result_inv) \n",
    "\n",
    "decryptor = heaan.Decryptor(context)\n",
    "result_inv_message = heaan.Message(log_slots)\n",
    "\n",
    "decryptor.decrypt(result_inv, sk, result_inv_message)\n",
    "\n",
    "print('inverse :', result_inv_message) # "
   ]
  },
  {
   "cell_type": "markdown",
   "metadata": {},
   "source": [
    "### log\n",
    "- input range : 1 ≤ x ≤ 2^22\n",
    "- approx.log : 3th parameter is the number 'base' (ex. 2, 10, e, ...)\n",
    "- log(arg0: piheaan.HomEvaluator, \n",
    "        arg1: input : piheaan.Ciphertext, \n",
    "        arg2: result : piheaan.Ciphertext, \n",
    "        arg3: float)\n"
   ]
  },
  {
   "cell_type": "code",
   "execution_count": 36,
   "metadata": {},
   "outputs": [],
   "source": [
    "log_slots = 3\n",
    "num_slots = 2 ** log_slots\n",
    "\n",
    "data = [i for i in range(num_slots)]\n",
    "message = heaan.Message(log_slots)\n",
    "for i in range(num_slots):\n",
    "    message[i] = data[i]\n",
    "\n",
    "ciphertext = heaan.Ciphertext(context)\n",
    "enc.encrypt(message, pk, ciphertext)"
   ]
  },
  {
   "cell_type": "code",
   "execution_count": 37,
   "metadata": {},
   "outputs": [],
   "source": [
    "ciphertext_log_2 = heaan.Ciphertext(context)\n",
    "ciphertext_log_10 = heaan.Ciphertext(context)\n",
    "ciphertext_log_e = heaan.Ciphertext(context)\n",
    "ciphertext_log_ = heaan.Ciphertext(context)\n",
    "\n",
    "approx.log(eval, ciphertext, ciphertext_log_, 2)\n",
    "approx.log_2(eval, ciphertext, ciphertext_log_2)  #  1 ~ 2^18\n",
    "approx.log_10(eval, ciphertext, ciphertext_log_10)  \n",
    "approx.log_e(eval, ciphertext, ciphertext_log_e)"
   ]
  },
  {
   "cell_type": "code",
   "execution_count": 38,
   "metadata": {},
   "outputs": [
    {
     "name": "stdout",
     "output_type": "stream",
     "text": [
      "message : [ (0.000000+0.000000j), (1.000000+0.000000j), (2.000000+0.000000j), (3.000000+0.000000j), (4.000000+0.000000j), (5.000000+0.000000j), (6.000000+0.000000j), (7.000000+0.000000j) ]\n",
      "\n",
      "log : [ (4492393500690405.500000+0.000000j), (0.000000+0.000000j), (1.000000+0.000000j), (1.584962+0.000000j), (2.000000+0.000000j), (2.321928+0.000000j), (2.584962+0.000000j), (2.807355+0.000000j) ]\n",
      "\n",
      "log_2 : [ (4492393500690405.500000+0.000000j), (0.000000+0.000000j), (1.000000+0.000000j), (1.584962+0.000000j), (2.000000+0.000000j), (2.321928+0.000000j), (2.584962+0.000000j), (2.807355+0.000000j) ]\n",
      "\n",
      "log_10 : [ (-338088477213185.375000+0.000000j), (-0.000000+0.000000j), (0.301030+0.000000j), (0.477121+0.000000j), (0.602060+0.000000j), (0.698970+0.000000j), (0.778151+0.000000j), (0.845098+0.000000j) ]\n",
      "\n",
      "log_e :  [ (3113889888969262.000000+0.000000j), (0.000000+0.000000j), (0.693147+0.000000j), (1.098612+0.000000j), (1.386294+0.000000j), (1.609438+0.000000j), (1.791759+0.000000j), (1.945910+0.000000j) ]\n"
     ]
    }
   ],
   "source": [
    "message_out = heaan.Message(log_slots)\n",
    "message_out_log_2 = heaan.Message(log_slots)\n",
    "message_out_log_10 = heaan.Message(log_slots)\n",
    "message_out_log_e = heaan.Message(log_slots)\n",
    "message_out_log_ = heaan.Message(log_slots)\n",
    "\n",
    "dec.decrypt(ciphertext, sk, message_out)\n",
    "dec.decrypt(ciphertext_log_, sk, message_out_log_)\n",
    "dec.decrypt(ciphertext_log_2, sk, message_out_log_2)\n",
    "dec.decrypt(ciphertext_log_10, sk, message_out_log_10)\n",
    "dec.decrypt(ciphertext_log_e, sk, message_out_log_e)\n",
    "\n",
    "print('message :', message_out)\n",
    "print()\n",
    "print('log :', message_out_log_)\n",
    "print()\n",
    "print('log_2 :', message_out_log_2)\n",
    "print()\n",
    "print('log_10 :', message_out_log_10)\n",
    "print()\n",
    "print('log_e : ', message_out_log_e)"
   ]
  },
  {
   "cell_type": "markdown",
   "metadata": {},
   "source": [
    "### relu\n",
    "- relu(arg0: piheaan.HomEvaluator, \n",
    "        arg1: piheaan.Ciphertext, \n",
    "        arg2: piheaan.Ciphertext)"
   ]
  },
  {
   "cell_type": "code",
   "execution_count": 39,
   "metadata": {},
   "outputs": [
    {
     "name": "stdout",
     "output_type": "stream",
     "text": [
      "[ (0.456869+0.000000j), (0.660708+0.000000j), (0.018736+0.000000j), (0.059109+0.000000j), (0.752345+0.000000j), (0.865611+0.000000j), (0.121043+0.000000j), (0.810350+0.000000j) ]\n"
     ]
    }
   ],
   "source": [
    "data = np.random.uniform(2**(-18), 1, size=num_slots)\n",
    "message = heaan.Message(log_slots)\n",
    "for i in range(num_slots):\n",
    "    message[i] = data[i]\n",
    "print(message)\n",
    "\n",
    "ciphertext = heaan.Ciphertext(context)\n",
    "enc.encrypt(message, pk, ciphertext)"
   ]
  },
  {
   "cell_type": "code",
   "execution_count": 40,
   "metadata": {},
   "outputs": [],
   "source": [
    "def ReLU(x):\n",
    "    return np.maximum(0, x)"
   ]
  },
  {
   "cell_type": "code",
   "execution_count": 41,
   "metadata": {},
   "outputs": [
    {
     "name": "stdout",
     "output_type": "stream",
     "text": [
      "[0.45686876362846274, 0.660708357280833, 0.0187358213923265, 0.05910887109426354, 0.7523451862334931, 0.8656108338326649, 0.12104286736335992, 0.8103496075073514]\n"
     ]
    }
   ],
   "source": [
    "plaintext_relu = []\n",
    "for x in message:\n",
    "    plaintext_relu.append(ReLU(x.real))\n",
    "\n",
    "print(plaintext_relu)"
   ]
  },
  {
   "cell_type": "code",
   "execution_count": 42,
   "metadata": {},
   "outputs": [
    {
     "name": "stdout",
     "output_type": "stream",
     "text": [
      "relu :  [ (0.474098+0.000000j), (0.649256+0.000000j), (0.027381+0.000000j), (0.053492+0.000000j), (0.735590+0.000000j), (0.871335+0.000000j), (0.104685+0.000000j), (0.801734+0.000000j) ]\n"
     ]
    }
   ],
   "source": [
    "result_relu = heaan.Ciphertext(context)\n",
    "\n",
    "approx.relu(eval, ciphertext, result_relu)\n",
    "\n",
    "result_relu_message = heaan.Message(log_slots)\n",
    "dec.decrypt(result_relu, sk, result_relu_message)\n",
    "print(\"relu : \", result_relu_message)"
   ]
  },
  {
   "cell_type": "markdown",
   "metadata": {},
   "source": [
    "### sigmoid\n",
    "- sigmoid(arg0: piheaan.HomEvaluator, \n",
    "            arg1: piheaan.Ciphertext, \n",
    "            arg2: piheaan.Ciphertext, \n",
    "            arg3: float)"
   ]
  },
  {
   "cell_type": "code",
   "execution_count": 43,
   "metadata": {},
   "outputs": [],
   "source": [
    "def sigmoid(x):\n",
    "    sig = 1 / (1 + math.exp(-x))\n",
    "    return sig"
   ]
  },
  {
   "cell_type": "code",
   "execution_count": 44,
   "metadata": {},
   "outputs": [
    {
     "name": "stdout",
     "output_type": "stream",
     "text": [
      "[0.5785041575568142, 0.6276315922436166, 0.5543482467420584, 0.7051447763933393, 0.541898096449181, 0.6278317305436136, 0.6078852034453884, 0.6997445892354243]\n"
     ]
    }
   ],
   "source": [
    "plaintext_sigmoid = []\n",
    "for x in message_3:\n",
    "    plaintext_sigmoid.append(sigmoid(x.real))\n",
    "\n",
    "print(plaintext_sigmoid)"
   ]
  },
  {
   "cell_type": "code",
   "execution_count": 45,
   "metadata": {},
   "outputs": [
    {
     "name": "stdout",
     "output_type": "stream",
     "text": [
      "sigmoid :  [ (0.578502+0.000000j), (0.627630+0.000000j), (0.554347+0.000000j), (0.705146+0.000000j), (0.541897+0.000000j), (0.627830+0.000000j), (0.607883+0.000000j), (0.699746+0.000000j) ]\n"
     ]
    }
   ],
   "source": [
    "ciphertext_3 = heaan.Ciphertext(context)\n",
    "result_sigmoid = heaan.Ciphertext(context)\n",
    "\n",
    "enc.encrypt(message_3, pk, ciphertext_3)\n",
    "enc.encrypt(message_4, pk, ciphertext_4)\n",
    "\n",
    "approx.sigmoid(eval, ciphertext_3, result_sigmoid, 8.0)\n",
    "\n",
    "result_sigmoid_message = heaan.Message(log_slots)\n",
    "dec.decrypt(result_sigmoid, sk, result_sigmoid_message)\n",
    "print(\"sigmoid : \", result_sigmoid_message)"
   ]
  },
  {
   "cell_type": "markdown",
   "metadata": {},
   "source": [
    "### sign\n",
    "- input range 2^-18 < |x| < 1\n",
    "- sign(arg0: piheaan.HomEvaluator, \n",
    "       arg1: piheaan.Ciphertext, \n",
    "       arg2: piheaan.Ciphertext, \n",
    "       arg3: numiter_g : int, \n",
    "       arg4: numiter_f : int)\n",
    "\n",
    "- default : 3rd paramter = 8 and 4th paramter = 3"
   ]
  },
  {
   "cell_type": "code",
   "execution_count": 46,
   "metadata": {},
   "outputs": [
    {
     "name": "stdout",
     "output_type": "stream",
     "text": [
      "[ (-0.623574+0.000000j), (0.208610+0.000000j), (-0.843150+0.000000j), (-0.575945+0.000000j), (-0.148376+0.000000j), (0.962112+0.000000j), (0.171445+0.000000j), (-0.382732+0.000000j) ]\n"
     ]
    }
   ],
   "source": [
    "data = np.random.uniform(-1, 1, size=num_slots)\n",
    "message = heaan.Message(log_slots)\n",
    "for i in range(num_slots):\n",
    "    message[i] = data[i]\n",
    "print(message)\n",
    "\n",
    "ciphertext = heaan.Ciphertext(context)\n",
    "enc.encrypt(message, pk, ciphertext)"
   ]
  },
  {
   "cell_type": "code",
   "execution_count": 47,
   "metadata": {},
   "outputs": [
    {
     "name": "stdout",
     "output_type": "stream",
     "text": [
      "sign :  [ (-1.000000+0.000000j), (1.000000+0.000000j), (-1.000000+0.000000j), (-1.000000+0.000000j), (-1.000000+0.000000j), (1.000000+0.000000j), (1.000000+0.000000j), (-1.000000+0.000000j) ]\n"
     ]
    }
   ],
   "source": [
    "result_sign = heaan.Ciphertext(context)\n",
    "\n",
    "approx.sign(eval, ciphertext, result_sign)\n",
    "\n",
    "result_sign_message = heaan.Message(log_slots)\n",
    "dec.decrypt(result_sign, sk, result_sign_message)\n",
    "print(\"sign : \", result_sign_message)"
   ]
  },
  {
   "cell_type": "markdown",
   "metadata": {
    "tags": [
     "parameters"
    ]
   },
   "source": [
    "### min_max\n",
    "- compare two ciphertexts and return two ciphertexts with minimum value or maximum value\n",
    "- imnput range : 2^-18 < |x-y| < 1\n",
    "- min_max(eval: piheaan.HomEvaluator, \n",
    "            op1: piheaan.Ciphertext, \n",
    "            op2: piheaan.Ciphertext, \n",
    "            min: piheaan.Ciphertext, \n",
    "            max: piheaan.Ciphertext, \n",
    "            numiter_g: int = 8, \n",
    "            numiter_f: int = 3) \n",
    "\n",
    "- default : 5 ~ 6th paramter"
   ]
  },
  {
   "cell_type": "code",
   "execution_count": 48,
   "metadata": {},
   "outputs": [
    {
     "name": "stdout",
     "output_type": "stream",
     "text": [
      "message_3 :  [ (0.369825+0.000000j), (0.943454+0.000000j), (0.048667+0.000000j), (0.795119+0.000000j), (0.080350+0.000000j), (0.268601+0.000000j), (0.798674+0.000000j), (0.747631+0.000000j) ]\n",
      "\n",
      "message_4 :  [ (0.473638+0.000000j), (0.870304+0.000000j), (0.107515+0.000000j), (0.311041+0.000000j), (0.524878+0.000000j), (0.832252+0.000000j), (0.383240+0.000000j), (0.652498+0.000000j) ]\n"
     ]
    }
   ],
   "source": [
    "data3 = np.random.uniform(size=num_slots)\n",
    "data4 = np.random.uniform(size=num_slots)\n",
    "message_3 = heaan.Message(log_slots)\n",
    "message_4 = heaan.Message(log_slots)\n",
    "for i in range(num_slots):\n",
    "    message_3[i]=data3[i]\n",
    "    message_4[i]=data4[i]\n",
    "\n",
    "print(\"message_3 : \", message_3)\n",
    "print()\n",
    "print(\"message_4 : \", message_4)"
   ]
  },
  {
   "cell_type": "code",
   "execution_count": 49,
   "metadata": {},
   "outputs": [],
   "source": [
    "ciphertext_3 = heaan.Ciphertext(context)\n",
    "ciphertext_4 = heaan.Ciphertext(context)\n",
    "\n",
    "enc.encrypt(message_3, pk, ciphertext_3)\n",
    "enc.encrypt(message_4, pk, ciphertext_4)"
   ]
  },
  {
   "cell_type": "code",
   "execution_count": 50,
   "metadata": {},
   "outputs": [],
   "source": [
    "ciphertext_out_min = heaan.Ciphertext(context)\n",
    "ciphertext_out_max = heaan.Ciphertext(context)\n",
    "\n",
    "approx.min_max(eval, ciphertext_3, ciphertext_4, ciphertext_out_min, ciphertext_out_max)"
   ]
  },
  {
   "cell_type": "code",
   "execution_count": 51,
   "metadata": {},
   "outputs": [
    {
     "name": "stdout",
     "output_type": "stream",
     "text": [
      "min :  [ (0.369825+0.000000j), (0.870304+0.000000j), (0.048667+0.000000j), (0.311041+0.000000j), (0.080350+0.000000j), (0.268601+0.000000j), (0.383240+0.000000j), (0.652498+0.000000j) ]\n",
      "\n",
      "max :  [ (0.473638+0.000000j), (0.943454+0.000000j), (0.107515+0.000000j), (0.795119+0.000000j), (0.524878+0.000000j), (0.832252+0.000000j), (0.798674+0.000000j), (0.747631+0.000000j) ]\n"
     ]
    }
   ],
   "source": [
    "message_out_min = heaan.Message(log_slots)\n",
    "message_out_max = heaan.Message(log_slots)\n",
    "dec.decrypt(ciphertext_out_min, sk, message_out_min)\n",
    "dec.decrypt(ciphertext_out_max, sk, message_out_max)\n",
    "print(\"min : \", message_out_min)\n",
    "print()\n",
    "print(\"max : \", message_out_max)"
   ]
  },
  {
   "cell_type": "markdown",
   "metadata": {},
   "source": [
    "### sqrt\n",
    "- input range : 2^-18 ≤ x ≤ 2\n",
    "- sqrt(arg0: piheaan.HomEvaluator, \n",
    "       arg1: piheaan.Ciphertext, \n",
    "       arg2: piheaan.Ciphertext,\n",
    "       arg3 : init)\n",
    "       \n",
    "- The default value for 3rd parameter is 17.\n",
    "- You can specify a value when you change the default settings.\n",
    "- As the value of the variable changes, the value of the square root and the value of the ciphertext level change.\n",
    "- Error when entering 0 or non-integer values\n",
    "\n"
   ]
  },
  {
   "cell_type": "markdown",
   "metadata": {},
   "source": [
    "### sqrt_inverse\n",
    "- x -> 1/sqrt(x)\n",
    "- input range : 1 ≤ x ≤ 2^22 or 2^-10 ≤ x ≤ 1\n",
    "- sqrt_inverse(eval: piheaan.HomEvaluator, \n",
    "                op: piheaan.Ciphertext, \n",
    "                res: piheaan.Ciphertext, \n",
    "                init: Optional[float] = None, \n",
    "                num_iter: Optional[int] = None, \n",
    "                greater_than_one: bool = True)\n",
    "\n",
    "- default values are init = pow(2, -9), num_iter=20 if greater_than_one==true, \n",
    "- otherwise init = pow(2, -5), num_iter=14\n"
   ]
  },
  {
   "cell_type": "code",
   "execution_count": 52,
   "metadata": {},
   "outputs": [
    {
     "name": "stdout",
     "output_type": "stream",
     "text": [
      "message : [ (0.476514+0.000000j), (0.241998+0.000000j), (1.103534+0.000000j), (1.994289+0.000000j), (0.207289+0.000000j), (0.020362+0.000000j), (1.810466+0.000000j), (1.964830+0.000000j) ]\n"
     ]
    }
   ],
   "source": [
    "log_slots = 3\n",
    "num_slots = 2 ** log_slots\n",
    "\n",
    "data = np.random.uniform(2**(-18), 2, num_slots)\n",
    "# data = [i for i in range(num_slots)]\n",
    "message = heaan.Message(log_slots)\n",
    "for i in range(num_slots):\n",
    "    message[i] = data[i]\n",
    "print('message :', message)"
   ]
  },
  {
   "cell_type": "code",
   "execution_count": 53,
   "metadata": {},
   "outputs": [],
   "source": [
    "ciphertext = heaan.Ciphertext(context)\n",
    "enc.encrypt(message, pk, ciphertext)\n",
    "\n",
    "ciphertext_sqrt = heaan.Ciphertext(context)\n",
    "approx.sqrt(eval, ciphertext, ciphertext_sqrt)\n",
    "\n",
    "ciphertext_sqrt_inv = heaan.Ciphertext(context)\n",
    "approx.sqrt_inverse(eval, ciphertext, ciphertext_sqrt_inv) # 1 ~ 2^18\n",
    "\n",
    "message_out_sqrt = heaan.Message(log_slots)\n",
    "message_out_sqrt_inv = heaan.Message(log_slots)"
   ]
  },
  {
   "cell_type": "code",
   "execution_count": 54,
   "metadata": {},
   "outputs": [
    {
     "name": "stdout",
     "output_type": "stream",
     "text": [
      "sqrt :  [ (0.690300+0.000000j), (0.491933+0.000000j), (1.050492+0.000000j), (1.412193+0.000000j), (0.455290+0.000000j), (0.142696+0.000000j), (1.345536+0.000000j), (1.401724+0.000000j) ]\n",
      "\n",
      "sqrt_inverse :  [ (1.448645+0.000000j), (2.032559+0.000000j), (0.951935+0.000000j), (0.708118+0.000000j), (2.195650+0.000000j), (5.274408+0.000000j), (0.743198+0.000000j), (0.713407+0.000000j) ]\n"
     ]
    }
   ],
   "source": [
    "dec.decrypt(ciphertext_sqrt, sk, message_out_sqrt)\n",
    "dec.decrypt(ciphertext_sqrt_inv, sk, message_out_sqrt_inv)\n",
    "\n",
    "print('sqrt : ', message_out_sqrt)\n",
    "print()\n",
    "print('sqrt_inverse : ', message_out_sqrt_inv)"
   ]
  },
  {
   "cell_type": "code",
   "execution_count": null,
   "metadata": {},
   "outputs": [],
   "source": []
  },
  {
   "cell_type": "code",
   "execution_count": null,
   "metadata": {},
   "outputs": [],
   "source": []
  }
 ],
 "metadata": {
  "kernelspec": {
   "display_name": "python38",
   "language": "python",
   "name": "python3"
  },
  "language_info": {
   "codemirror_mode": {
    "name": "ipython",
    "version": 3
   },
   "file_extension": ".py",
   "mimetype": "text/x-python",
   "name": "python",
   "nbconvert_exporter": "python",
   "pygments_lexer": "ipython3",
   "version": "3.9.6"
  }
 },
 "nbformat": 4,
 "nbformat_minor": 2
}
