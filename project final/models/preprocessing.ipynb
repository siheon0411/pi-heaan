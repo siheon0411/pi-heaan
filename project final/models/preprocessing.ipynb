{
 "cells": [
  {
   "cell_type": "markdown",
   "metadata": {},
   "source": [
    "# Korean Medicine (KM) patient data analysis\n",
    "19100720 Siheon Kim\n",
    "\n",
    "20102115 Jeongmin Oh"
   ]
  },
  {
   "cell_type": "code",
   "execution_count": 9,
   "metadata": {},
   "outputs": [
    {
     "name": "stdout",
     "output_type": "stream",
     "text": [
      "Requirement already satisfied: scikit-learn in /opt/anaconda3/envs/python38/lib/python3.8/site-packages (1.3.2)\n",
      "Requirement already satisfied: numpy<2.0,>=1.17.3 in /opt/anaconda3/envs/python38/lib/python3.8/site-packages (from scikit-learn) (1.24.4)\n",
      "Requirement already satisfied: scipy>=1.5.0 in /opt/anaconda3/envs/python38/lib/python3.8/site-packages (from scikit-learn) (1.10.1)\n",
      "Requirement already satisfied: joblib>=1.1.1 in /opt/anaconda3/envs/python38/lib/python3.8/site-packages (from scikit-learn) (1.4.2)\n",
      "Requirement already satisfied: threadpoolctl>=2.0.0 in /opt/anaconda3/envs/python38/lib/python3.8/site-packages (from scikit-learn) (3.5.0)\n",
      "Note: you may need to restart the kernel to use updated packages.\n"
     ]
    }
   ],
   "source": [
    "%pip install scikit-learn\n",
    "\n",
    "import numpy as np\n",
    "import pandas as pd\n",
    "from sklearn.model_selection import train_test_split\n",
    "from sklearn.linear_model import LogisticRegression\n",
    "from sklearn.preprocessing import StandardScaler\n",
    "from sklearn.metrics import accuracy_score, classification_report"
   ]
  },
  {
   "cell_type": "code",
   "execution_count": 10,
   "metadata": {},
   "outputs": [
    {
     "name": "stdout",
     "output_type": "stream",
     "text": [
      "   km_diagnosis   bmi  forehead_circumference  neck_circumference  \\\n",
      "0             3  26.2                    59.0                35.0   \n",
      "1             1  25.7                    60.0                40.0   \n",
      "2             3  24.2                    57.0                41.0   \n",
      "3             1  24.6                    56.0                36.0   \n",
      "4             1  22.0                    56.0                36.5   \n",
      "\n",
      "   armpit_circumference   bust  rib_cage  waist_circumference  \\\n",
      "0                  96.0  101.0      93.0                 92.0   \n",
      "1                 106.0  102.0      99.0                 98.0   \n",
      "2                  98.0   96.0      92.0                 91.0   \n",
      "3                  93.0   97.0      91.0                 89.0   \n",
      "4                  93.0   93.5      87.0                 86.5   \n",
      "\n",
      "   iliac_circumference  femur_circumference  ...  personality_ee  \\\n",
      "0                 96.0                 99.0  ...               1   \n",
      "1                 98.0                100.0  ...               2   \n",
      "2                 92.0                 91.0  ...               2   \n",
      "3                 93.0                 94.0  ...               2   \n",
      "4                 95.8                 93.0  ...               2   \n",
      "\n",
      "   personality_oxr  personality_po  sweating  sweatmood  stoolhabits  \\\n",
      "0                1               3         1          2            1   \n",
      "1                2               1         1          2            1   \n",
      "2                2               2         2          1            1   \n",
      "3                2               2         2          1            1   \n",
      "4                1               2         3          3            2   \n",
      "\n",
      "   fecal_bulge  fouw_defecating  folsa_defecation  urinenighttime_urination  \n",
      "0            2              999               999                       1.0  \n",
      "1            2              999               999                       0.0  \n",
      "2            2              999               999                       0.0  \n",
      "3            2              999               999                       0.0  \n",
      "4            1              999               999                       2.0  \n",
      "\n",
      "[5 rows x 32 columns]\n"
     ]
    }
   ],
   "source": [
    "# CSV 파일 로드\n",
    "df = pd.read_csv('../data/patient_data_new.csv')\n",
    "\n",
    "# 데이터 확인\n",
    "print(df.head())"
   ]
  },
  {
   "cell_type": "code",
   "execution_count": 11,
   "metadata": {},
   "outputs": [],
   "source": [
    "# 종속변수 및 feature 선택\n",
    "target_variable = 'km_diagnosis'\n",
    "feature_columns = [col for col in df.columns if col != target_variable and col != 'patient_id']"
   ]
  },
  {
   "cell_type": "code",
   "execution_count": 12,
   "metadata": {},
   "outputs": [
    {
     "name": "stdout",
     "output_type": "stream",
     "text": [
      "0      NaN\n",
      "1      NaN\n",
      "2      NaN\n",
      "3      NaN\n",
      "4      NaN\n",
      "      ... \n",
      "370    2.0\n",
      "371    3.0\n",
      "372    3.0\n",
      "373    2.0\n",
      "374    3.0\n",
      "Name: fouw_defecating, Length: 375, dtype: float64\n"
     ]
    }
   ],
   "source": [
    "# 999 값을 NaN으로 변경\n",
    "df.replace(999, np.nan, inplace=True)\n",
    "\n",
    "print(df['fouw_defecating'])\n"
   ]
  },
  {
   "cell_type": "code",
   "execution_count": 13,
   "metadata": {},
   "outputs": [
    {
     "name": "stdout",
     "output_type": "stream",
     "text": [
      "0      2.484694\n",
      "1      2.484694\n",
      "2      2.484694\n",
      "3      2.484694\n",
      "4      2.484694\n",
      "         ...   \n",
      "370    2.000000\n",
      "371    3.000000\n",
      "372    3.000000\n",
      "373    2.000000\n",
      "374    3.000000\n",
      "Name: fouw_defecating, Length: 375, dtype: float64\n"
     ]
    }
   ],
   "source": [
    "# 각 컬럼별로 999인 값을 해당 컬럼의 평균값으로 대체\n",
    "for col in df.columns:\n",
    "    if df[col].isnull().sum() > 0:  # NaN 값이 있는 경우에만 처리\n",
    "        col_mean = df[col].mean()\n",
    "        df[col].fillna(col_mean, inplace=True)\n",
    "\n",
    "print(df['fouw_defecating'])\n"
   ]
  },
  {
   "cell_type": "code",
   "execution_count": 14,
   "metadata": {},
   "outputs": [],
   "source": [
    "df.to_csv('modified_file.csv', index=False)"
   ]
  },
  {
   "cell_type": "code",
   "execution_count": 15,
   "metadata": {},
   "outputs": [
    {
     "name": "stdout",
     "output_type": "stream",
     "text": [
      "   km_diagnosis   bmi  forehead_circumference  neck_circumference  \\\n",
      "0             3  26.2                    59.0                35.0   \n",
      "1             1  25.7                    60.0                40.0   \n",
      "2             3  24.2                    57.0                41.0   \n",
      "3             1  24.6                    56.0                36.0   \n",
      "4             1  22.0                    56.0                36.5   \n",
      "\n",
      "   armpit_circumference   bust  rib_cage  waist_circumference  \\\n",
      "0                  96.0  101.0      93.0                 92.0   \n",
      "1                 106.0  102.0      99.0                 98.0   \n",
      "2                  98.0   96.0      92.0                 91.0   \n",
      "3                  93.0   97.0      91.0                 89.0   \n",
      "4                  93.0   93.5      87.0                 86.5   \n",
      "\n",
      "   iliac_circumference  femur_circumference  ...  personality_ee  \\\n",
      "0                 96.0                 99.0  ...               1   \n",
      "1                 98.0                100.0  ...               3   \n",
      "2                 92.0                 91.0  ...               3   \n",
      "3                 93.0                 94.0  ...               3   \n",
      "4                 95.8                 93.0  ...               3   \n",
      "\n",
      "   personality_oxr  personality_po  sweating  sweatmood  stoolhabits  \\\n",
      "0                1               3         1        3.0            1   \n",
      "1                3               1         1        3.0            1   \n",
      "2                3               1         1        1.0            1   \n",
      "3                3               1         1        1.0            1   \n",
      "4                1               1         3        3.0            3   \n",
      "\n",
      "   fecal_bulge  fouw_defecating  folsa_defecation  urinenighttime_urination  \n",
      "0            1         2.484694          2.321429                       1.0  \n",
      "1            1         2.484694          2.321429                       0.0  \n",
      "2            1         2.484694          2.321429                       0.0  \n",
      "3            1         2.484694          2.321429                       0.0  \n",
      "4            1         2.484694          2.321429                       2.0  \n",
      "\n",
      "[5 rows x 32 columns]\n"
     ]
    }
   ],
   "source": [
    "# CSV 파일 읽기\n",
    "df_modified = pd.read_csv('modified_file.csv')\n",
    "\n",
    "# 값 변경 함수 정의\n",
    "def change_value(column, value):\n",
    "    df_modified.loc[df[column] == 2, column] = value\n",
    "\n",
    "# 각 컬럼에 대해 값 변경\n",
    "change_value('personality_bs', 1)\n",
    "change_value('personality_fasa', 3)\n",
    "change_value('personality_ap', 3)\n",
    "change_value('personality_di', 3)\n",
    "change_value('personality_fgsg', 3)\n",
    "change_value('personality_ei', 1)\n",
    "change_value('personality_ds', 3)\n",
    "change_value('personality_ed', 1)\n",
    "change_value('personality_mf', 3)\n",
    "change_value('personality_ifte', 1)\n",
    "change_value('personality_bl', 3)\n",
    "change_value('personality_es', 1)\n",
    "change_value('personality_ee', 3)\n",
    "change_value('personality_oxr', 3)\n",
    "change_value('personality_po', 1)\n",
    "\n",
    "change_value('sweating', 1)\n",
    "change_value('sweatmood', 3)\n",
    "change_value('stoolhabits', 3)\n",
    "change_value('fecal_bulge', 1)\n",
    "change_value('fouw_defecating', 1)\n",
    "change_value('folsa_defecation', 1)\n",
    "\n",
    "# 변경된 데이터프레임 출력 (검토용)\n",
    "print(df_modified.head())\n",
    "\n",
    "# 변경된 데이터프레임을 CSV 파일로 저장\n",
    "df_modified.to_csv('modified_file.csv', index=False)"
   ]
  },
  {
   "cell_type": "code",
   "execution_count": 17,
   "metadata": {},
   "outputs": [],
   "source": [
    "# 3 -> 0 바꾸기\n",
    "# CSV 파일 읽기\n",
    "preprocessed_df = pd.read_csv('mod_pre_data.csv')\n",
    "\n",
    "# 변경할 컬럼 리스트\n",
    "columns_to_modify = [\n",
    "    'personality_bs', 'personality_fasa', 'personality_ap', 'personality_di', 'personality_fgsg', \n",
    "    'personality_ei', 'personality_ds', 'personality_ed', 'personality_mf', 'personality_ifte', \n",
    "    'personality_bl', 'personality_es', 'personality_ee', 'personality_oxr', 'personality_po', \n",
    "    'sweating', 'sweatmood', 'stoolhabits', 'fecal_bulge', 'fouw_defecating', 'folsa_defecation'\n",
    "]\n",
    "\n",
    "# 각 컬럼에 대해 값이 3인 경우 0으로 변경\n",
    "for col in columns_to_modify:\n",
    "    preprocessed_df[col] = preprocessed_df[col].replace(3, 0)\n",
    "\n",
    "preprocessed_df.to_csv('../data/preprocessed_data.csv', index=False)"
   ]
  },
  {
   "cell_type": "code",
   "execution_count": 13,
   "metadata": {},
   "outputs": [],
   "source": [
    "# 데이터 분할\n",
    "X = df[feature_columns]\n",
    "y = df[target_variable]\n",
    "X_train, X_test, y_train, y_test = train_test_split(X, y, test_size=0.2, random_state=42)"
   ]
  },
  {
   "cell_type": "code",
   "execution_count": 14,
   "metadata": {},
   "outputs": [],
   "source": [
    "# 데이터 표준화 (numerical feature에 대해서만)\n",
    "scaler = StandardScaler()\n",
    "X_train_scaled = scaler.fit_transform(X_train.select_dtypes(include=['number']))\n",
    "X_test_scaled = scaler.transform(X_test.select_dtypes(include=['number']))"
   ]
  },
  {
   "cell_type": "code",
   "execution_count": 15,
   "metadata": {},
   "outputs": [
    {
     "data": {
      "text/html": [
       "<style>#sk-container-id-1 {color: black;}#sk-container-id-1 pre{padding: 0;}#sk-container-id-1 div.sk-toggleable {background-color: white;}#sk-container-id-1 label.sk-toggleable__label {cursor: pointer;display: block;width: 100%;margin-bottom: 0;padding: 0.3em;box-sizing: border-box;text-align: center;}#sk-container-id-1 label.sk-toggleable__label-arrow:before {content: \"▸\";float: left;margin-right: 0.25em;color: #696969;}#sk-container-id-1 label.sk-toggleable__label-arrow:hover:before {color: black;}#sk-container-id-1 div.sk-estimator:hover label.sk-toggleable__label-arrow:before {color: black;}#sk-container-id-1 div.sk-toggleable__content {max-height: 0;max-width: 0;overflow: hidden;text-align: left;background-color: #f0f8ff;}#sk-container-id-1 div.sk-toggleable__content pre {margin: 0.2em;color: black;border-radius: 0.25em;background-color: #f0f8ff;}#sk-container-id-1 input.sk-toggleable__control:checked~div.sk-toggleable__content {max-height: 200px;max-width: 100%;overflow: auto;}#sk-container-id-1 input.sk-toggleable__control:checked~label.sk-toggleable__label-arrow:before {content: \"▾\";}#sk-container-id-1 div.sk-estimator input.sk-toggleable__control:checked~label.sk-toggleable__label {background-color: #d4ebff;}#sk-container-id-1 div.sk-label input.sk-toggleable__control:checked~label.sk-toggleable__label {background-color: #d4ebff;}#sk-container-id-1 input.sk-hidden--visually {border: 0;clip: rect(1px 1px 1px 1px);clip: rect(1px, 1px, 1px, 1px);height: 1px;margin: -1px;overflow: hidden;padding: 0;position: absolute;width: 1px;}#sk-container-id-1 div.sk-estimator {font-family: monospace;background-color: #f0f8ff;border: 1px dotted black;border-radius: 0.25em;box-sizing: border-box;margin-bottom: 0.5em;}#sk-container-id-1 div.sk-estimator:hover {background-color: #d4ebff;}#sk-container-id-1 div.sk-parallel-item::after {content: \"\";width: 100%;border-bottom: 1px solid gray;flex-grow: 1;}#sk-container-id-1 div.sk-label:hover label.sk-toggleable__label {background-color: #d4ebff;}#sk-container-id-1 div.sk-serial::before {content: \"\";position: absolute;border-left: 1px solid gray;box-sizing: border-box;top: 0;bottom: 0;left: 50%;z-index: 0;}#sk-container-id-1 div.sk-serial {display: flex;flex-direction: column;align-items: center;background-color: white;padding-right: 0.2em;padding-left: 0.2em;position: relative;}#sk-container-id-1 div.sk-item {position: relative;z-index: 1;}#sk-container-id-1 div.sk-parallel {display: flex;align-items: stretch;justify-content: center;background-color: white;position: relative;}#sk-container-id-1 div.sk-item::before, #sk-container-id-1 div.sk-parallel-item::before {content: \"\";position: absolute;border-left: 1px solid gray;box-sizing: border-box;top: 0;bottom: 0;left: 50%;z-index: -1;}#sk-container-id-1 div.sk-parallel-item {display: flex;flex-direction: column;z-index: 1;position: relative;background-color: white;}#sk-container-id-1 div.sk-parallel-item:first-child::after {align-self: flex-end;width: 50%;}#sk-container-id-1 div.sk-parallel-item:last-child::after {align-self: flex-start;width: 50%;}#sk-container-id-1 div.sk-parallel-item:only-child::after {width: 0;}#sk-container-id-1 div.sk-dashed-wrapped {border: 1px dashed gray;margin: 0 0.4em 0.5em 0.4em;box-sizing: border-box;padding-bottom: 0.4em;background-color: white;}#sk-container-id-1 div.sk-label label {font-family: monospace;font-weight: bold;display: inline-block;line-height: 1.2em;}#sk-container-id-1 div.sk-label-container {text-align: center;}#sk-container-id-1 div.sk-container {/* jupyter's `normalize.less` sets `[hidden] { display: none; }` but bootstrap.min.css set `[hidden] { display: none !important; }` so we also need the `!important` here to be able to override the default hidden behavior on the sphinx rendered scikit-learn.org. See: https://github.com/scikit-learn/scikit-learn/issues/21755 */display: inline-block !important;position: relative;}#sk-container-id-1 div.sk-text-repr-fallback {display: none;}</style><div id=\"sk-container-id-1\" class=\"sk-top-container\"><div class=\"sk-text-repr-fallback\"><pre>LogisticRegression(max_iter=1000)</pre><b>In a Jupyter environment, please rerun this cell to show the HTML representation or trust the notebook. <br />On GitHub, the HTML representation is unable to render, please try loading this page with nbviewer.org.</b></div><div class=\"sk-container\" hidden><div class=\"sk-item\"><div class=\"sk-estimator sk-toggleable\"><input class=\"sk-toggleable__control sk-hidden--visually\" id=\"sk-estimator-id-1\" type=\"checkbox\" checked><label for=\"sk-estimator-id-1\" class=\"sk-toggleable__label sk-toggleable__label-arrow\">LogisticRegression</label><div class=\"sk-toggleable__content\"><pre>LogisticRegression(max_iter=1000)</pre></div></div></div></div></div>"
      ],
      "text/plain": [
       "LogisticRegression(max_iter=1000)"
      ]
     },
     "execution_count": 15,
     "metadata": {},
     "output_type": "execute_result"
    }
   ],
   "source": [
    "# 모델 학습\n",
    "model = LogisticRegression(max_iter=1000)\n",
    "model.fit(X_train_scaled, y_train)"
   ]
  },
  {
   "cell_type": "code",
   "execution_count": 16,
   "metadata": {},
   "outputs": [
    {
     "name": "stdout",
     "output_type": "stream",
     "text": [
      "Accuracy: 0.45\n",
      "Classification Report:\n",
      "              precision    recall  f1-score   support\n",
      "\n",
      "           1       0.58      0.61      0.60        46\n",
      "           2       0.32      0.26      0.29        23\n",
      "           3       0.33      0.35      0.34        31\n",
      "\n",
      "    accuracy                           0.45       100\n",
      "   macro avg       0.41      0.41      0.41       100\n",
      "weighted avg       0.44      0.45      0.45       100\n",
      "\n"
     ]
    }
   ],
   "source": [
    "# 예측 및 평가\n",
    "y_pred = model.predict(X_test_scaled)\n",
    "accuracy = accuracy_score(y_test, y_pred)\n",
    "report = classification_report(y_test, y_pred)\n",
    "\n",
    "print(f'Accuracy: {accuracy}')\n",
    "print(f'Classification Report:\\n{report}')"
   ]
  },
  {
   "cell_type": "code",
   "execution_count": null,
   "metadata": {},
   "outputs": [],
   "source": []
  }
 ],
 "metadata": {
  "kernelspec": {
   "display_name": "Python 3",
   "language": "python",
   "name": "python3"
  },
  "language_info": {
   "codemirror_mode": {
    "name": "ipython",
    "version": 3
   },
   "file_extension": ".py",
   "mimetype": "text/x-python",
   "name": "python",
   "nbconvert_exporter": "python",
   "pygments_lexer": "ipython3",
   "version": "3.8.19"
  }
 },
 "nbformat": 4,
 "nbformat_minor": 2
}
