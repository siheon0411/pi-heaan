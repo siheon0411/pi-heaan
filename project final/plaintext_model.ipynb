{
 "cells": [
  {
   "cell_type": "code",
   "execution_count": 3,
   "metadata": {},
   "outputs": [
    {
     "name": "stdout",
     "output_type": "stream",
     "text": [
      "평문 로지스틱 회귀 모델의 정확도: 0.5466666666666666\n",
      "임계값을 조정한 평문 로지스틱 회귀 모델의 정확도: 0.5466666666666666\n"
     ]
    }
   ],
   "source": [
    "import pandas as pd\n",
    "import numpy as np\n",
    "from sklearn.model_selection import train_test_split\n",
    "from sklearn.preprocessing import StandardScaler\n",
    "from sklearn.linear_model import LogisticRegression\n",
    "from sklearn.metrics import accuracy_score\n",
    "\n",
    "# load train and test data (already splited)\n",
    "train_df = pd.read_csv('./data/train_df.csv')\n",
    "test_df = pd.read_csv('./data/test_df.csv')\n",
    "\n",
    "# data preprocessing function\n",
    "def normalize_data(arr):\n",
    "    S = sum(arr)\n",
    "    return [x / S for x in arr]\n",
    "\n",
    "# train dataset preprocessing\n",
    "X_train = train_df.drop(columns=['km_diagnosis'])\n",
    "y_train = train_df['km_diagnosis']\n",
    "\n",
    "# normalize columns that are not in 0~1 range\n",
    "columns_to_normalize = ['bmi', 'forehead_circumference', 'neck_circumference', \n",
    "                        'armpit_circumference', 'bust', 'rib_cage', \n",
    "                        'waist_circumference', 'iliac_circumference', \n",
    "                        'femur_circumference', 'urinenighttime_urination']\n",
    "\n",
    "for col in columns_to_normalize:\n",
    "    X_train[col] = normalize_data(X_train[col].values)\n",
    "\n",
    "# test dataset preprocessing\n",
    "X_test = test_df.drop(columns=['km_diagnosis'])\n",
    "y_test = test_df['km_diagnosis']\n",
    "\n",
    "for col in columns_to_normalize:\n",
    "    X_test[col] = normalize_data(X_test[col].values)\n",
    "\n",
    "\n",
    "# 로지스틱 회귀 모델 학습\n",
    "# 초기 가중치 설정 (동형암호 모델과 일치하도록)\n",
    "initial_beta = 2 * np.random.rand(X_train.shape[1]) - 1\n",
    "model = LogisticRegression(C=1e5, solver='lbfgs', max_iter=1000, fit_intercept=True)\n",
    "model.coef_ = np.array([initial_beta[:-1]])\n",
    "model.intercept_ = np.array([initial_beta[-1]])\n",
    "\n",
    "model.fit(X_train, y_train)\n",
    "\n",
    "# 예측\n",
    "y_pred = model.predict(X_test)\n",
    "\n",
    "# 정확도 계산\n",
    "accuracy = accuracy_score(y_test, y_pred)\n",
    "print(f\"평문 로지스틱 회귀 모델의 정확도: {accuracy}\")\n",
    "\n",
    "# 예측 확률을 사용하여 임계값(0.6)을 적용한 후, 조정된 정확도 계산\n",
    "y_pred_proba = model.predict_proba(X_test)[:, 1]\n",
    "threshold = 0.6\n",
    "y_pred_adjusted = (y_pred_proba >= threshold).astype(int)\n",
    "adjusted_accuracy = accuracy_score(y_test, y_pred_adjusted)\n",
    "print(f\"임계값을 조정한 평문 로지스틱 회귀 모델의 정확도: {adjusted_accuracy}\")"
   ]
  },
  {
   "cell_type": "code",
   "execution_count": null,
   "metadata": {},
   "outputs": [],
   "source": []
  }
 ],
 "metadata": {
  "kernelspec": {
   "display_name": "Python 3",
   "language": "python",
   "name": "python3"
  },
  "language_info": {
   "codemirror_mode": {
    "name": "ipython",
    "version": 3
   },
   "file_extension": ".py",
   "mimetype": "text/x-python",
   "name": "python",
   "nbconvert_exporter": "python",
   "pygments_lexer": "ipython3",
   "version": "3.8.19"
  }
 },
 "nbformat": 4,
 "nbformat_minor": 2
}
